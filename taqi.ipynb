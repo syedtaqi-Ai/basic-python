{
 "cells": [
  {
   "cell_type": "code",
   "execution_count": 6,
   "id": "2f860264-ea0b-426c-afa8-0ec4fe4a6eff",
   "metadata": {},
   "outputs": [
    {
     "name": "stdout",
     "output_type": "stream",
     "text": [
      "1\n",
      "True\n",
      "0\n",
      "False\n"
     ]
    }
   ],
   "source": [
    "num_1=1\n",
    "print(num_1)\n",
    "print(bool(num_1))\n",
    "num_2=0\n",
    "print(num_2)\n",
    "print(bool(num_2))\n",
    "      \n"
   ]
  },
  {
   "cell_type": "code",
   "execution_count": 8,
   "id": "e7c5433c-3832-4363-8553-e4733256b7b8",
   "metadata": {},
   "outputs": [
    {
     "name": "stdin",
     "output_type": "stream",
     "text": [
      "enter numnber 1\n",
      "enetr number 2\n"
     ]
    },
    {
     "name": "stdout",
     "output_type": "stream",
     "text": [
      "1\n",
      "2\n"
     ]
    }
   ],
   "source": [
    "num_1=int(input(\"enter numnber\"))\n",
    "num_2=int(input(\"enetr number\"))\n",
    "print(num_1)\n",
    "print(num_2)\n"
   ]
  },
  {
   "cell_type": "code",
   "execution_count": 8,
   "id": "ee659957-c910-41a3-90b5-725beacd3b5e",
   "metadata": {},
   "outputs": [
    {
     "name": "stdin",
     "output_type": "stream",
     "text": [
      "enter first number 22\n",
      "enter second number 22\n"
     ]
    },
    {
     "name": "stdout",
     "output_type": "stream",
     "text": [
      "choose an operation\n",
      "1.Addition\n",
      "2.subtarction\n",
      "3.multiplication\n",
      "4.division\n",
      "5.exponent\n"
     ]
    },
    {
     "name": "stdin",
     "output_type": "stream",
     "text": [
      "enter the number to perform operation 6\n"
     ]
    },
    {
     "name": "stdout",
     "output_type": "stream",
     "text": [
      "invalid input\n"
     ]
    }
   ],
   "source": [
    "num_1=float(input(\"enter first number\"))\n",
    "num_2=float(input(\"enter second number\"))\n",
    "#Asking user to use the operation\n",
    "print(\"choose an operation\")\n",
    "print(\"1.Addition\")\n",
    "print(\"2.subtarction\")\n",
    "print(\"3.multiplication\")\n",
    "print(\"4.division\")\n",
    "print(\"5.exponent\")\n",
    "operation=input(\"enter the number to perform operation\")\n",
    "if operation=='1':\n",
    "    result=num_1+num_2\n",
    "    print(result)\n",
    "elif operation=='2':\n",
    "    result=num_1-num_2\n",
    "    print(result)\n",
    "elif operation=='3':\n",
    "    result=num_1*num_2\n",
    "    print(result)\n",
    "elif operation=='4':\n",
    "    result=num_1/num_2\n",
    "    print(result)\n",
    "elif operation=='5':\n",
    "    exponent=float(input(\"enter number\"))\n",
    "    result_1=num_1**exponent\n",
    "    result_2=num_2**exponent\n",
    "    print(result_1)\n",
    "    print(result_2)\n",
    "else:\n",
    "    print(\"invalid input\")"
   ]
  },
  {
   "cell_type": "code",
   "execution_count": null,
   "id": "fd05d3c3-09e2-474e-831c-bb9eee15b94e",
   "metadata": {},
   "outputs": [],
   "source": [
    "\n"
   ]
  },
  {
   "cell_type": "code",
   "execution_count": 6,
   "id": "e725ad6d-d9e6-4ce5-a570-d50a04bb732a",
   "metadata": {},
   "outputs": [
    {
     "name": "stdout",
     "output_type": "stream",
     "text": [
      "4\n",
      "q\n"
     ]
    }
   ],
   "source": [
    "name=\"taqi\"\n",
    "print(len(name))# len for length\n",
    "print(name[2])"
   ]
  },
  {
   "cell_type": "code",
   "execution_count": 7,
   "id": "5a5d0225-dfd6-4a0e-b941-5f9e873c0f5b",
   "metadata": {},
   "outputs": [
    {
     "name": "stdout",
     "output_type": "stream",
     "text": [
      "hello\n",
      "hello\n",
      "hello\n",
      "hello\n"
     ]
    }
   ],
   "source": [
    "name=\"taqi\"\n",
    "for i in name:\n",
    "    print(\"hello\")"
   ]
  },
  {
   "cell_type": "code",
   "execution_count": 8,
   "id": "c6ba40fd-9f48-499b-989a-0abadafb6a96",
   "metadata": {},
   "outputs": [
    {
     "name": "stdout",
     "output_type": "stream",
     "text": [
      "7\n"
     ]
    }
   ],
   "source": [
    "name=\"T a q i\"\n",
    "print(len(name)) #space is also a character"
   ]
  },
  {
   "cell_type": "code",
   "execution_count": 10,
   "id": "0ced9f76-ac46-45d7-b027-0a017c489874",
   "metadata": {},
   "outputs": [
    {
     "name": "stdout",
     "output_type": "stream",
     "text": [
      "t\n",
      "a\n",
      "q\n",
      "i\n"
     ]
    },
    {
     "ename": "IndexError",
     "evalue": "string index out of range",
     "output_type": "error",
     "traceback": [
      "\u001b[1;31m---------------------------------------------------------------------------\u001b[0m",
      "\u001b[1;31mIndexError\u001b[0m                                Traceback (most recent call last)",
      "Cell \u001b[1;32mIn[10], line 6\u001b[0m\n\u001b[0;32m      4\u001b[0m \u001b[38;5;28mprint\u001b[39m(name[\u001b[38;5;241m2\u001b[39m])\n\u001b[0;32m      5\u001b[0m \u001b[38;5;28mprint\u001b[39m(name[\u001b[38;5;241m3\u001b[39m])\n\u001b[1;32m----> 6\u001b[0m \u001b[38;5;28mprint\u001b[39m(name[\u001b[38;5;241m4\u001b[39m])\n",
      "\u001b[1;31mIndexError\u001b[0m: string index out of range"
     ]
    }
   ],
   "source": [
    "name=\"taqi\"\n",
    "print(name[0])\n",
    "print(name[1])\n",
    "print(name[2])\n",
    "print(name[3])\n",
    "print(name[4]) #string length is 4"
   ]
  },
  {
   "cell_type": "code",
   "execution_count": 1,
   "id": "ec5a5f15-67f0-4153-a49b-527c052e675c",
   "metadata": {},
   "outputs": [
    {
     "name": "stdout",
     "output_type": "stream",
     "text": [
      "ng\n",
      "ngo\n",
      "Mang\n",
      "Mang\n",
      "ango\n",
      "Mango\n",
      "Mango\n"
     ]
    }
   ],
   "source": [
    "#positive slicing( left to right)\n",
    "name=\"Mango\"\n",
    "print(name[2:4])\n",
    "print(name[2:5])\n",
    "print(name[0:4])#by dafult start from zero\n",
    "print(name[:4])# must be end but end-1 in positive slicing [S:E]\n",
    "print(name[1:5])\n",
    "print(name[0:])#bydafult ends at last element\n",
    "print(name[:])#by dafult from start to end"
   ]
  },
  {
   "cell_type": "code",
   "execution_count": 17,
   "id": "d4f5d810-98d0-4e41-93b2-742df14e7d0c",
   "metadata": {},
   "outputs": [
    {
     "name": "stdout",
     "output_type": "stream",
     "text": [
      "Mangoe\n",
      "ngoe\n"
     ]
    }
   ],
   "source": [
    "#negative slicing ( right to left ) start from -1\n",
    "name=\"Mangoes\"\n",
    "print(name[:-1])\n",
    "print(name[-5:-1])"
   ]
  },
  {
   "cell_type": "raw",
   "id": "345c9124-c10c-4d92-8a7b-a49cdc14db15",
   "metadata": {},
   "source": [
    "nam=\"Muhammad\"\n",
    "print(nam[-6:-1])"
   ]
  },
  {
   "cell_type": "code",
   "execution_count": 19,
   "id": "d230dfcb-3773-4f60-be81-f696e36a3a4e",
   "metadata": {},
   "outputs": [
    {
     "name": "stdout",
     "output_type": "stream",
     "text": [
      "hamma\n"
     ]
    }
   ],
   "source": [
    "string = \"muhammad\"\n",
    "\n",
    "print(string[-6:-1])"
   ]
  },
  {
   "cell_type": "code",
   "execution_count": 22,
   "id": "8f76a67e-5fba-46dd-a40a-c9736b8408f0",
   "metadata": {},
   "outputs": [
    {
     "name": "stdout",
     "output_type": "stream",
     "text": [
      "hamma\n"
     ]
    }
   ],
   "source": [
    "name = \"Muhammad\"\n",
    "print(name[-6:-1])"
   ]
  },
  {
   "cell_type": "code",
   "execution_count": 30,
   "id": "05eb2d55-50c3-4be8-9e1e-568146b70c3c",
   "metadata": {},
   "outputs": [
    {
     "name": "stdout",
     "output_type": "stream",
     "text": [
      "\n"
     ]
    }
   ],
   "source": [
    "input=\"Muhammad\"\n",
    "print(input[-6:0])"
   ]
  },
  {
   "cell_type": "code",
   "execution_count": 28,
   "id": "4bc38178-2aac-4d33-805c-cf1e99c15e52",
   "metadata": {},
   "outputs": [
    {
     "name": "stdout",
     "output_type": "stream",
     "text": [
      "MUHAMMAD\n"
     ]
    }
   ],
   "source": [
    "name=\"muhammad\"\n",
    "print(name.upper())# alla character will be capital"
   ]
  },
  {
   "cell_type": "code",
   "execution_count": 29,
   "id": "d3a8f686-4e37-41c1-97e6-a2eeafba4115",
   "metadata": {},
   "outputs": [
    {
     "name": "stdout",
     "output_type": "stream",
     "text": [
      "muhammad\n"
     ]
    }
   ],
   "source": [
    "name=\"MUHAMMAD\"\n",
    "print(name.lower()) # all character will be small case"
   ]
  },
  {
   "cell_type": "code",
   "execution_count": 31,
   "id": "048e85da-c7d3-4056-a6b4-00ae4fb742d0",
   "metadata": {},
   "outputs": [
    {
     "name": "stdout",
     "output_type": "stream",
     "text": [
      "Muhammad\n"
     ]
    }
   ],
   "source": [
    "a=\"  Muhammad  \"\n",
    "print(a.strip())# remove space"
   ]
  },
  {
   "cell_type": "code",
   "execution_count": 35,
   "id": "a8229aad-3f60-4a24-8439-54febd9d10c8",
   "metadata": {},
   "outputs": [
    {
     "name": "stdout",
     "output_type": "stream",
     "text": [
      "Muhammad\n"
     ]
    }
   ],
   "source": [
    "name_1 =\"Muhammad!!!!\"\n",
    "print(name_1.rstrip(\"!\"))#delete last/trailing character"
   ]
  },
  {
   "cell_type": "code",
   "execution_count": 40,
   "id": "c427f542-477f-4ddf-9e08-4bb3b5cb64f2",
   "metadata": {},
   "outputs": [
    {
     "name": "stdout",
     "output_type": "stream",
     "text": [
      "taqi syed\n",
      "['syed', 'taqi']\n",
      "Syed taqi\n",
      "<class 'list'>\n"
     ]
    }
   ],
   "source": [
    "name_1=\"syed taqi\"\n",
    "print(name_1.replace(\"syed taqi\",\"taqi syed\"))# replacing text\n",
    "print(name_1.split(\" \"))#spliting string\n",
    "print(name_1.capitalize())\n",
    "a=name_1.split(\" \")\n",
    "print(type(a))"
   ]
  },
  {
   "cell_type": "code",
   "execution_count": 76,
   "id": "7dbd275d-7c44-4292-add1-8ee80413cdf2",
   "metadata": {},
   "outputs": [
    {
     "name": "stdout",
     "output_type": "stream",
     "text": [
      "2\n",
      "True\n",
      "False\n",
      "True\n",
      "True\n",
      "True\n",
      "False\n",
      "Thisisacar123\n",
      "False\n",
      "THISISACAR123\n"
     ]
    }
   ],
   "source": [
    "input= \"thisisacar123\"\n",
    "a=\"  \"\n",
    "print(input.find(\"is\"))#find index \n",
    "print(input.isalnum())#check if string contain only alphanumeric cahracter\n",
    "print(input.isalpha())#check if string contain only alphates\n",
    "print(input.islower())# check if all character in a string are lowercase\n",
    "print(input.isprintable())# check string is printable\n",
    "print(a.isspace())# check only white space\n",
    "print(input.istitle())# check string contain title\n",
    "print(input.title())#covert string into title\n",
    "print(input.startswith(\"is\"))# check a string start with specfic prefix\n",
    "print(input.swapcase())# swap the case of characters in a string"
   ]
  },
  {
   "cell_type": "code",
   "execution_count": 33,
   "id": "33fbc5b6-385c-497d-958c-ce4882c78732",
   "metadata": {},
   "outputs": [
    {
     "name": "stdout",
     "output_type": "stream",
     "text": [
      "9\n"
     ]
    }
   ],
   "source": [
    "num=\"4\"\n",
    "num_1=\"5\"\n",
    "name_2=int(num)+int(num_1)\n",
    "print(name_2)"
   ]
  },
  {
   "cell_type": "code",
   "execution_count": 28,
   "id": "989de398-ccd9-461f-b57f-0862e75aace3",
   "metadata": {},
   "outputs": [
    {
     "name": "stdout",
     "output_type": "stream",
     "text": [
      "Good morning\n"
     ]
    }
   ],
   "source": [
    "import datetime\n",
    "time=datetime.datetime.now()\n",
    "currenttime=int(time.strftime(\"%H\"))\n",
    "if currenttime>=6 and currenttime<12:\n",
    "    print(\"Good morning\")\n",
    "elif currenttime>=12 and currenttime<15:\n",
    "    print(\"good Afternoon\")\n",
    "elif currrenttime>=15 and  currenttime<18:\n",
    "    print(\"good evening\")\n",
    "elif currenttime>=18 and currentime<12:\n",
    "    print(\"good night\")\n",
    "else:\n",
    "    print(\"invalid\")\n"
   ]
  },
  {
   "cell_type": "code",
   "execution_count": 29,
   "id": "910a95b8-7873-4d48-8b47-103f5163032e",
   "metadata": {},
   "outputs": [
    {
     "name": "stdout",
     "output_type": "stream",
     "text": [
      "Good morning\n"
     ]
    }
   ],
   "source": [
    "import datetime\n",
    "time=datetime.datetime.now()\n",
    "currenttime=int(time.strftime(\"%H\"))\n",
    "if currenttime>=6 and currenttime<12:\n",
    "    print(\"Good morning\")\n",
    "elif currenttime>=12 and currenttime<15:\n",
    "    print(\"good Afternoon\")\n",
    "elif currrenttime>=15 and  currenttime<18:\n",
    "    print(\"good evening\")\n",
    "elif currenttime>=18 and currentime<12:\n",
    "    print(\"good night\")\n",
    "else:\n",
    "    print(\"invalid\")"
   ]
  },
  {
   "cell_type": "code",
   "execution_count": 46,
   "id": "9999a62f-7d68-4770-9bb5-42eb404fbd07",
   "metadata": {},
   "outputs": [
    {
     "name": "stdout",
     "output_type": "stream",
     "text": [
      "1 2 3 4 5 6 7 8 9 10 11 12 13 14 15 16 17 18 19 20 21 22 23 24 25 26 27 28 29 30 31 32 33 34 35 36 37 38 39 40 41 42 43 44 45 46 47 48 49 50 \n",
      "Thankyou\n"
     ]
    }
   ],
   "source": [
    "for i in range(1,101,1):\n",
    "    print(i,end=\" \")\n",
    "    if(i==50):\n",
    "       break\n",
    "       print(\"Misssion passed\")\n",
    "print(\"\\nThankyou\")"
   ]
  },
  {
   "cell_type": "code",
   "execution_count": 47,
   "id": "e4f9cbac-6669-4006-b712-ca10556fd965",
   "metadata": {},
   "outputs": [
    {
     "name": "stdout",
     "output_type": "stream",
     "text": [
      "3\n",
      "7\n"
     ]
    }
   ],
   "source": [
    "for i in [2,3,7,6,4,8,10]:\n",
    "    if(i%2==0):\n",
    "        continue\n",
    "    print(i)"
   ]
  },
  {
   "cell_type": "code",
   "execution_count": 48,
   "id": "813067ee-5e2e-458c-8880-ec57c4b59088",
   "metadata": {},
   "outputs": [
    {
     "name": "stdout",
     "output_type": "stream",
     "text": [
      "2\n",
      "6\n",
      "4\n",
      "8\n",
      "10\n"
     ]
    }
   ],
   "source": [
    "for i in [2,3,7,6,4,8,10]:\n",
    "    if(i%2!=0):\n",
    "        continue\n",
    "    print(i)"
   ]
  },
  {
   "cell_type": "code",
   "execution_count": 53,
   "id": "1b90cbfc-6557-47e3-bbc8-27f13df81b07",
   "metadata": {},
   "outputs": [
    {
     "name": "stdout",
     "output_type": "stream",
     "text": [
      "0\n",
      "1\n",
      "2\n",
      "3\n",
      "4\n",
      "5\n",
      "6\n",
      "7\n",
      "8\n",
      "9\n",
      "10\n",
      "11\n",
      "12\n",
      "13\n",
      "14\n",
      "15\n",
      "16\n",
      "17\n",
      "18\n",
      "19\n",
      "20\n",
      "21\n",
      "22\n",
      "23\n",
      "24\n",
      "25\n",
      "26\n",
      "27\n",
      "28\n",
      "29\n",
      "30\n",
      "31\n",
      "32\n",
      "33\n",
      "34\n",
      "35\n",
      "36\n",
      "37\n",
      "38\n",
      "39\n",
      "40\n",
      "41\n"
     ]
    }
   ],
   "source": [
    "i=0\n",
    "while True:\n",
    "         print(i)\n",
    "         i=i+1\n",
    "         if(i%1000==42):\n",
    "             break"
   ]
  },
  {
   "cell_type": "code",
   "execution_count": 55,
   "id": "607f3614-3405-4915-9a3a-022a3a5ad6cb",
   "metadata": {},
   "outputs": [
    {
     "name": "stdout",
     "output_type": "stream",
     "text": [
      "[1, 2, 4.5, True, 'saad', (4+5j)]\n",
      "saad\n"
     ]
    }
   ],
   "source": [
    "a=[1,2,4.5,True,\"saad\",complex(4,5)]\n",
    "print(a)\n",
    "print(a[4])"
   ]
  },
  {
   "cell_type": "code",
   "execution_count": 62,
   "id": "d05234a6-c285-4fc9-95a5-9578172e3030",
   "metadata": {},
   "outputs": [
    {
     "name": "stdout",
     "output_type": "stream",
     "text": [
      "[1, 2, 3, ['A', 'B', 'C'], True]\n",
      "<class 'list'>\n",
      "[3, ['A', 'B', 'C'], True]\n"
     ]
    }
   ],
   "source": [
    "L=[1,2,3,[\"A\",\"B\",\"C\"],True]\n",
    "print(L)\n",
    "print(type(L))\n",
    "print(L[2:6])"
   ]
  },
  {
   "cell_type": "code",
   "execution_count": 65,
   "id": "7fad3a92-e67f-41b2-940b-37f89391d071",
   "metadata": {},
   "outputs": [
    {
     "name": "stdout",
     "output_type": "stream",
     "text": [
      "[2.5, 'A', 3, 'Saad']\n"
     ]
    }
   ],
   "source": [
    "A=[1,2,2.5,\"A\",3,\"Saad\",True,complex(4,5)]\n",
    "print(A[2:6])"
   ]
  },
  {
   "cell_type": "code",
   "execution_count": 25,
   "id": "5d87a2f9-6afa-4090-b238-b7b1b18d8829",
   "metadata": {},
   "outputs": [
    {
     "name": "stdout",
     "output_type": "stream",
     "text": [
      "2\n",
      "4\n",
      "8\n",
      "8\n",
      "5\n",
      "6\n"
     ]
    }
   ],
   "source": [
    "L1=[1,2,4,5,3,2]\n",
    "L2=[1,2,4,3,2,4]\n",
    "for i in range(6):\n",
    "  L3=L1[i]+L2[i]\n",
    "  print(L3)"
   ]
  },
  {
   "cell_type": "code",
   "execution_count": 4,
   "id": "81bfe8e2-1fee-462c-a862-721c23e51692",
   "metadata": {},
   "outputs": [
    {
     "name": "stdout",
     "output_type": "stream",
     "text": [
      "[1, 2, 3, 4]\n",
      "4\n"
     ]
    }
   ],
   "source": [
    "A=[1,2,3,4]\n",
    "print(A)\n",
    "print(A[3])\n"
   ]
  },
  {
   "cell_type": "code",
   "execution_count": 12,
   "id": "a486a0f2-42c5-401f-97f0-e0fc875cecb3",
   "metadata": {},
   "outputs": [
    {
     "name": "stdout",
     "output_type": "stream",
     "text": [
      "[1, 2, 3, 'A', (3+4j), True, False]\n",
      "['A', (3+4j)]\n"
     ]
    }
   ],
   "source": [
    "B=[1,2,3,\"A\",complex(3,4),True,False]\n",
    "print(B)\n",
    "print(B[3:5])"
   ]
  },
  {
   "cell_type": "code",
   "execution_count": 17,
   "id": "370edbf5-c939-4985-bed2-b866c0cbccc4",
   "metadata": {},
   "outputs": [
    {
     "name": "stdout",
     "output_type": "stream",
     "text": [
      "[1, 2, 3, 4, 5, 6, 7, 8, 3, 4, 5]\n",
      "[4, 5, 6, 7, 8, 3]\n"
     ]
    }
   ],
   "source": [
    "C=[1,2,3,4,5,6,7,8,3,4,5]\n",
    "print(C)\n",
    "print(C[-8:-2])"
   ]
  },
  {
   "cell_type": "code",
   "execution_count": 21,
   "id": "7e32997b-0425-4c2d-aa56-03717d587a8c",
   "metadata": {},
   "outputs": [
    {
     "name": "stdout",
     "output_type": "stream",
     "text": [
      "It is present in list\n"
     ]
    }
   ],
   "source": [
    "colors=[\"Red\",\"yellow\",\"Y\",\"blue\"]\n",
    "if \"Y\" in colors:\n",
    "    print(\"It is present in list\")\n",
    "else:\n",
    "    print(\"it is not present in list\")"
   ]
  },
  {
   "cell_type": "code",
   "execution_count": 26,
   "id": "d263f667-0fb1-4fb7-b419-1b8b1d4c8548",
   "metadata": {},
   "outputs": [
    {
     "name": "stdout",
     "output_type": "stream",
     "text": [
      "6 is not present in the list\n"
     ]
    }
   ],
   "source": [
    "colors=[6,\"Red\",\"G\",\"B\",\"y\"]\n",
    "if\"6\" in colors:\n",
    "    print(\"6 is present\")\n",
    "else:\n",
    "    print(\"6 is not present in the list\")#6 in the form of string but in list 6 is present in the form of integer"
   ]
  },
  {
   "cell_type": "code",
   "execution_count": 1,
   "id": "03e89d99-db04-4ec8-bc1f-40eddb883443",
   "metadata": {},
   "outputs": [
    {
     "name": "stdout",
     "output_type": "stream",
     "text": [
      "['elephant', 'Camel', 'Cow', 'Crow']\n",
      "['cat', 'elephant', 'Camel', 'Cow']\n",
      "['Dog', 'elephant', 'Cow']\n",
      "Dog\n"
     ]
    }
   ],
   "source": [
    "Animals=[\"Dog\",\"cat\",\"elephant\",\"Camel\",\"Cow\",\"Crow\"]\n",
    "print(Animals[2:6])\n",
    "print(Animals[-5:-1])\n",
    "print(Animals[0:5:2])\n",
    "print(Animals[0])"
   ]
  },
  {
   "cell_type": "markdown",
   "id": "00a07d17-9b66-437e-b993-3e850ac3a3c5",
   "metadata": {},
   "source": [
    "list=[i*i for i in range(4)]\n",
    "print(list)"
   ]
  },
  {
   "cell_type": "code",
   "execution_count": 33,
   "id": "253e7b14-3d8f-4abf-ac3b-601efcdedcbd",
   "metadata": {},
   "outputs": [
    {
     "name": "stdout",
     "output_type": "stream",
     "text": [
      "[1, 1, 4, 27]\n"
     ]
    }
   ],
   "source": [
    "list=[i**i for i in range(4)]\n",
    "print(list)"
   ]
  },
  {
   "cell_type": "code",
   "execution_count": 42,
   "id": "759a2108-d4fe-4bf6-8977-dcc166da7cf6",
   "metadata": {},
   "outputs": [
    {
     "name": "stdout",
     "output_type": "stream",
     "text": [
      "[2, 4, 6, 8, 10, 12, 14, 16, 18]\n"
     ]
    }
   ],
   "source": [
    "list=[i for i in range(20) if i%2==0]\n",
    "print(list[1:20])"
   ]
  },
  {
   "cell_type": "code",
   "execution_count": 44,
   "id": "6ce5038f-898b-4a82-bd6c-c3c455666c0b",
   "metadata": {},
   "outputs": [
    {
     "name": "stdout",
     "output_type": "stream",
     "text": [
      "[2, 4, 6, 8, 10, 12, 14, 16, 18, 20]\n"
     ]
    }
   ],
   "source": [
    "list=[i+2 for i in range(20) if i%2==0]\n",
    "print(list)"
   ]
  },
  {
   "cell_type": "code",
   "execution_count": 48,
   "id": "fecd7e02-f131-4a4e-9660-aad3dbeed394",
   "metadata": {},
   "outputs": [
    {
     "name": "stdout",
     "output_type": "stream",
     "text": [
      "[1, 3, 5, 7, 9, 11, 13, 15, 17, 19, 21, 23, 25, 27, 29, 31, 33, 35, 37, 39, 41, 43, 45, 47, 49, 51]\n"
     ]
    }
   ],
   "source": [
    "list=[i+1 for i in range(51) if i%2==0]\n",
    "print(list)"
   ]
  },
  {
   "cell_type": "code",
   "execution_count": 49,
   "id": "af55d2bc-99b5-4e9a-be32-b54bd880f12c",
   "metadata": {},
   "outputs": [
    {
     "name": "stdout",
     "output_type": "stream",
     "text": [
      "['Mohammad', 'Allah', 'Ahmad']\n"
     ]
    }
   ],
   "source": [
    "names=[\"oleh\",\"Mohammad\",\"Allah\",\"Ahmad\"]\n",
    "namesWith_o=[item for item in names if len(item)>4]\n",
    "print(namesWith_o)"
   ]
  },
  {
   "cell_type": "code",
   "execution_count": 51,
   "id": "b1465a0b-4f1b-435c-9788-8a753659df0e",
   "metadata": {},
   "outputs": [
    {
     "name": "stdout",
     "output_type": "stream",
     "text": [
      "['oleh', 'Mohammad']\n"
     ]
    }
   ],
   "source": [
    "names=[\"oleh\",\"Mohammad\",\"Allah\",\"Ahmad\"]\n",
    "namesWith_o=[item for item in names if'o'in item]\n",
    "print(namesWith_o)"
   ]
  },
  {
   "cell_type": "code",
   "execution_count": 54,
   "id": "b21e54d9-555f-4556-ab23-cc535e4d1e8d",
   "metadata": {},
   "outputs": [
    {
     "name": "stdout",
     "output_type": "stream",
     "text": [
      "(1, 2, 3, 4, 5)\n"
     ]
    }
   ],
   "source": [
    "tuple=(1,2,3,4,5)\n",
    "print(tuple)"
   ]
  },
  {
   "cell_type": "code",
   "execution_count": 60,
   "id": "badc9a06-e2d9-4e24-942c-ae33ccfe4a5d",
   "metadata": {},
   "outputs": [
    {
     "name": "stdout",
     "output_type": "stream",
     "text": [
      "(1, 3, 5, 4, 5)\n",
      "(1, 2, 3, 4, 4.5, 'A')\n",
      "<class 'tuple'>\n"
     ]
    }
   ],
   "source": [
    "tuple=(1,3,5,4,5)\n",
    "tuple_1=(1,2,3,4,4.5,\"A\")\n",
    "print(tuple)\n",
    "print(tuple_1)\n",
    "print(type(tuple_1))"
   ]
  },
  {
   "cell_type": "code",
   "execution_count": 1,
   "id": "c03497a0-ac00-40db-bd9c-1786c684ffc0",
   "metadata": {},
   "outputs": [
    {
     "ename": "TypeError",
     "evalue": "'tuple' object does not support item assignment",
     "output_type": "error",
     "traceback": [
      "\u001b[1;31m---------------------------------------------------------------------------\u001b[0m",
      "\u001b[1;31mTypeError\u001b[0m                                 Traceback (most recent call last)",
      "Cell \u001b[1;32mIn[1], line 2\u001b[0m\n\u001b[0;32m      1\u001b[0m \u001b[38;5;28mtuple\u001b[39m\u001b[38;5;241m=\u001b[39m(\u001b[38;5;241m1\u001b[39m,\u001b[38;5;241m2\u001b[39m,\u001b[38;5;241m34\u001b[39m,\u001b[38;5;124m\"\u001b[39m\u001b[38;5;124mA\u001b[39m\u001b[38;5;124m\"\u001b[39m)\n\u001b[1;32m----> 2\u001b[0m \u001b[38;5;28mtuple\u001b[39m[\u001b[38;5;241m3\u001b[39m]\u001b[38;5;241m=\u001b[39m\u001b[38;5;124m\"\u001b[39m\u001b[38;5;124mB\u001b[39m\u001b[38;5;124m\"\u001b[39m\n\u001b[0;32m      3\u001b[0m \u001b[38;5;28mprint\u001b[39m(\u001b[38;5;28mtuple\u001b[39m)\n",
      "\u001b[1;31mTypeError\u001b[0m: 'tuple' object does not support item assignment"
     ]
    }
   ],
   "source": [
    "tuple=(1,2,34,\"A\")\n",
    "tuple[3]=\"B\"\n",
    "print(tuple)"
   ]
  },
  {
   "cell_type": "code",
   "execution_count": 63,
   "id": "ca9f29dc-278e-4caf-8ab8-9982345018a8",
   "metadata": {},
   "outputs": [
    {
     "name": "stdout",
     "output_type": "stream",
     "text": [
      "[1, 2, 35, 'Z']\n"
     ]
    },
    {
     "ename": "TypeError",
     "evalue": "'tuple' object does not support item assignment",
     "output_type": "error",
     "traceback": [
      "\u001b[1;31m---------------------------------------------------------------------------\u001b[0m",
      "\u001b[1;31mTypeError\u001b[0m                                 Traceback (most recent call last)",
      "Cell \u001b[1;32mIn[63], line 5\u001b[0m\n\u001b[0;32m      3\u001b[0m \u001b[38;5;28mprint\u001b[39m(\u001b[38;5;28mlist\u001b[39m)\n\u001b[0;32m      4\u001b[0m \u001b[38;5;28mtuple\u001b[39m\u001b[38;5;241m=\u001b[39m(\u001b[38;5;241m1\u001b[39m,\u001b[38;5;241m2\u001b[39m,\u001b[38;5;241m34\u001b[39m,\u001b[38;5;124m\"\u001b[39m\u001b[38;5;124mA\u001b[39m\u001b[38;5;124m\"\u001b[39m)\n\u001b[1;32m----> 5\u001b[0m \u001b[38;5;28mtuple\u001b[39m[\u001b[38;5;241m3\u001b[39m]\u001b[38;5;241m=\u001b[39m\u001b[38;5;124m\"\u001b[39m\u001b[38;5;124mB\u001b[39m\u001b[38;5;124m\"\u001b[39m\n\u001b[0;32m      6\u001b[0m \u001b[38;5;28mprint\u001b[39m(\u001b[38;5;28mtuple\u001b[39m)\n",
      "\u001b[1;31mTypeError\u001b[0m: 'tuple' object does not support item assignment"
     ]
    }
   ],
   "source": [
    "list=[1,2,35,\"C\"]\n",
    "list[3]=\"Z\"\n",
    "print(list)\n",
    "tuple=(1,2,34,\"A\")\n",
    "tuple[3]=\"B\"\n",
    "print(tuple)"
   ]
  },
  {
   "cell_type": "code",
   "execution_count": 69,
   "id": "7e1e4067-0f65-4de3-8913-86ce073572c9",
   "metadata": {},
   "outputs": [
    {
     "name": "stdout",
     "output_type": "stream",
     "text": [
      "2\n",
      "0\n",
      "4\n",
      "0\n",
      "8\n",
      "0\n",
      "8\n",
      "2\n",
      "5\n",
      "1\n",
      "6\n",
      "-2\n"
     ]
    }
   ],
   "source": [
    "L1=(1,2,4,5,3,2)\n",
    "L2=(1,2,4,3,2,4)\n",
    "for i in range(6):\n",
    "  L3=L1[i]+L2[i]\n",
    "  print(L3)\n",
    "  L3=L1[i]-L2[i]\n",
    "  print(L3)\n"
   ]
  },
  {
   "cell_type": "code",
   "execution_count": 96,
   "id": "ac56f40d-0837-49ec-a4c3-3a98cc66ee50",
   "metadata": {},
   "outputs": [
    {
     "ename": "TypeError",
     "evalue": "'generator' object is not callable",
     "output_type": "error",
     "traceback": [
      "\u001b[1;31m---------------------------------------------------------------------------\u001b[0m",
      "\u001b[1;31mTypeError\u001b[0m                                 Traceback (most recent call last)",
      "Cell \u001b[1;32mIn[96], line 1\u001b[0m\n\u001b[1;32m----> 1\u001b[0m A\u001b[38;5;241m=\u001b[39m\u001b[38;5;28mtuple\u001b[39m(i \u001b[38;5;28;01mfor\u001b[39;00m i \u001b[38;5;129;01min\u001b[39;00m \u001b[38;5;28mrange\u001b[39m(\u001b[38;5;241m20\u001b[39m) \u001b[38;5;28;01mif\u001b[39;00m i\u001b[38;5;241m%\u001b[39m\u001b[38;5;241m2\u001b[39m\u001b[38;5;241m==\u001b[39m\u001b[38;5;241m0\u001b[39m)\n\u001b[0;32m      2\u001b[0m \u001b[38;5;28mprint\u001b[39m(\u001b[38;5;28mtype\u001b[39m(A))\n",
      "\u001b[1;31mTypeError\u001b[0m: 'generator' object is not callable"
     ]
    }
   ],
   "source": [
    "A=tuple(i for i in range(20) if i%2==0)\n",
    "print(type(A))"
   ]
  },
  {
   "cell_type": "code",
   "execution_count": 87,
   "id": "e77f32e8-1ff0-4579-bd99-4531b6464e01",
   "metadata": {},
   "outputs": [
    {
     "ename": "SyntaxError",
     "evalue": "invalid syntax. Perhaps you forgot a comma? (400747248.py, line 1)",
     "output_type": "error",
     "traceback": [
      "\u001b[1;36m  Cell \u001b[1;32mIn[87], line 1\u001b[1;36m\u001b[0m\n\u001b[1;33m    A=tuple(int(input(\"enter your tuple\"))\u001b[0m\n\u001b[1;37m            ^\u001b[0m\n\u001b[1;31mSyntaxError\u001b[0m\u001b[1;31m:\u001b[0m invalid syntax. Perhaps you forgot a comma?\n"
     ]
    }
   ],
   "source": [
    "A=tuple(int(input(\"enter your tuple\"))\n",
    "B=tuple(int(input(\"enter your tuple\"))\n",
    "for i in range(5):\n",
    " C=A[i]+B[i]\n",
    " print(C)"
   ]
  },
  {
   "cell_type": "code",
   "execution_count": 92,
   "id": "7920a7b9-ebc1-4dbd-b0e3-779a9353823e",
   "metadata": {},
   "outputs": [
    {
     "name": "stdin",
     "output_type": "stream",
     "text": [
      "Enter the list of tuples:\n",
      " 1,2,3,4,5\n",
      "eneter the list of tuble:\n",
      " 1,2,3,4,5\n"
     ]
    },
    {
     "ename": "TypeError",
     "evalue": "'generator' object is not callable",
     "output_type": "error",
     "traceback": [
      "\u001b[1;31m---------------------------------------------------------------------------\u001b[0m",
      "\u001b[1;31mTypeError\u001b[0m                                 Traceback (most recent call last)",
      "Cell \u001b[1;32mIn[92], line 5\u001b[0m\n\u001b[0;32m      3\u001b[0m line_2\u001b[38;5;241m=\u001b[39m \u001b[38;5;28minput\u001b[39m(\u001b[38;5;124m\"\u001b[39m\u001b[38;5;124meneter the list of tuble:\u001b[39m\u001b[38;5;130;01m\\n\u001b[39;00m\u001b[38;5;124m\"\u001b[39m)\n\u001b[0;32m      4\u001b[0m \u001b[38;5;28;01mwhile\u001b[39;00m(line \u001b[38;5;241m!=\u001b[39m \u001b[38;5;124m'\u001b[39m\u001b[38;5;124m'\u001b[39m): \n\u001b[1;32m----> 5\u001b[0m \tfinal_list\u001b[38;5;241m.\u001b[39mappend(\u001b[38;5;28mtuple\u001b[39m(line\u001b[38;5;241m.\u001b[39msplit())) \n\u001b[0;32m      6\u001b[0m \tline \u001b[38;5;241m=\u001b[39m \u001b[38;5;28minput\u001b[39m()\n\u001b[0;32m      7\u001b[0m \u001b[38;5;28mprint\u001b[39m(final_list)\n",
      "\u001b[1;31mTypeError\u001b[0m: 'generator' object is not callable"
     ]
    }
   ],
   "source": [
    "final_list =[] \n",
    "line_1 = input(\"Enter the list of tuples:\\n\")\n",
    "line_2= input(\"enter the list of tuble:\\n\")\n",
    "while(line != ''): \n",
    "\tfinal_list.append(tuple(line.split())) \n",
    "\tline = input()\n",
    "print(final_list) "
   ]
  },
  {
   "cell_type": "code",
   "execution_count": 34,
   "id": "f6e3220f-0c2b-43b0-a2a6-c7187ddff69b",
   "metadata": {},
   "outputs": [
    {
     "name": "stdin",
     "output_type": "stream",
     "text": [
      "Enter elements for the first tuple separated by spaces 1 2 3 4 5\n"
     ]
    },
    {
     "ename": "TypeError",
     "evalue": "'str' object is not callable",
     "output_type": "error",
     "traceback": [
      "\u001b[1;31m---------------------------------------------------------------------------\u001b[0m",
      "\u001b[1;31mTypeError\u001b[0m                                 Traceback (most recent call last)",
      "Cell \u001b[1;32mIn[34], line 4\u001b[0m\n\u001b[0;32m      2\u001b[0m tuple1_input\u001b[38;5;241m=\u001b[39m\u001b[38;5;124m'\u001b[39m\u001b[38;5;124m'\u001b[39m\n\u001b[0;32m      3\u001b[0m tuple1_input \u001b[38;5;241m=\u001b[39m \u001b[38;5;28minput\u001b[39m(\u001b[38;5;124m\"\u001b[39m\u001b[38;5;124mEnter elements for the first tuple separated by spaces\u001b[39m\u001b[38;5;124m\"\u001b[39m)\n\u001b[1;32m----> 4\u001b[0m tuple1 \u001b[38;5;241m=\u001b[39m \u001b[38;5;28mtuple\u001b[39m(tuple1_input)\n\u001b[0;32m      5\u001b[0m \u001b[38;5;28mprint\u001b[39m(\u001b[38;5;124m\"\u001b[39m\u001b[38;5;124mFirst tuple:\u001b[39m\u001b[38;5;124m\"\u001b[39m, tuple1)\n\u001b[0;32m      6\u001b[0m tuple2_input \u001b[38;5;241m=\u001b[39m \u001b[38;5;28minput\u001b[39m(\u001b[38;5;124m\"\u001b[39m\u001b[38;5;124mEnter elements for the second tuple separated by spaces\u001b[39m\u001b[38;5;124m\"\u001b[39m)\n",
      "\u001b[1;31mTypeError\u001b[0m: 'str' object is not callable"
     ]
    }
   ],
   "source": [
    "tuple1_input=''\n",
    "tuple1_input = input(\"Enter elements for the first tuple separated by spaces\")\n",
    "tuple1 = tuple(tuple1_input)\n",
    "print(\"First tuple:\", tuple1)\n",
    "tuple2_input = input(\"Enter elements for the second tuple separated by spaces\")\n",
    "tuple2 = tuple(tuple2_input)\n",
    "print(\"Second tuple:\", tuple2)\n",
    "for i in range(5):\n",
    " result_tuple = tuple1[i] + tuple2[i]\n",
    " print(\"Resulting tuple after addition:\", result_tuple)"
   ]
  },
  {
   "cell_type": "code",
   "execution_count": 20,
   "id": "a3928afc-39c1-44a7-ab03-c2716d49b9ab",
   "metadata": {},
   "outputs": [
    {
     "name": "stdout",
     "output_type": "stream",
     "text": [
      "<generator object <genexpr> at 0x0000026F8165EF60>\n",
      "2\n",
      "4\n",
      "6\n",
      "8\n",
      "10\n",
      "12\n",
      "14\n",
      "16\n",
      "18\n",
      "20\n"
     ]
    }
   ],
   "source": [
    "gen=(i+2 for i in range(20) if i%2==0)\n",
    "print(gen)\n",
    "for value in gen:\n",
    "    print(value)"
   ]
  },
  {
   "cell_type": "code",
   "execution_count": 23,
   "id": "5e1338fd-a778-48d1-9de5-6fe7a37c2714",
   "metadata": {},
   "outputs": [
    {
     "name": "stdout",
     "output_type": "stream",
     "text": [
      "<generator object <genexpr> at 0x0000026F8165E8E0>\n",
      "1\n",
      "3\n",
      "5\n",
      "7\n",
      "9\n",
      "11\n",
      "13\n",
      "15\n",
      "17\n",
      "19\n"
     ]
    }
   ],
   "source": [
    "gen=(i for i in range(21) if i%2!=0)\n",
    "print(gen)\n",
    "for value in gen:\n",
    "    print(value)"
   ]
  },
  {
   "cell_type": "code",
   "execution_count": 33,
   "id": "4ec5644b-fba7-4bb0-8e84-3c48c07cb619",
   "metadata": {},
   "outputs": [
    {
     "name": "stdout",
     "output_type": "stream",
     "text": [
      "()\n"
     ]
    }
   ],
   "source": [
    "emptytuple_1=()\n",
    "print(emptytuple_1)"
   ]
  },
  {
   "cell_type": "code",
   "execution_count": 37,
   "id": "41c7b334-2d49-4d25-8ccf-f24740ac4852",
   "metadata": {},
   "outputs": [
    {
     "name": "stdout",
     "output_type": "stream",
     "text": [
      "tuple\n",
      "set\n",
      "cat\n",
      "c++\n",
      "python\n",
      "java\n",
      "1\n",
      "2\n",
      "3\n",
      "True\n",
      "False\n",
      "('tuple', 'set', 'cat', 'c++', 'python', 'java', 1, 2, 3, True, False)\n"
     ]
    }
   ],
   "source": [
    "#tuple of string type\n",
    "tuple=(\"tuple\",\"set\",\"cat\",\"c++\",\"python\",\"java\",1,2,3,True,False)\n",
    "for i in tuple:\n",
    "    print(i)\n",
    "print(tuple)"
   ]
  },
  {
   "cell_type": "code",
   "execution_count": 41,
   "id": "9575a228-07d3-49ce-a74a-06a3179c7b9d",
   "metadata": {},
   "outputs": [
    {
     "name": "stdout",
     "output_type": "stream",
     "text": [
      "cat in tuple\n",
      "yes it is present\n"
     ]
    }
   ],
   "source": [
    "tuple=(\"tuple\",\"set\",\"cat\",\"c++\",\"python\",\"java\",1,2,3,True,False)\n",
    "print(\"cat in tuple\")\n",
    "match\"Cat\":\n",
    " case\"Cat\":\n",
    "  print(\"yes it is present\")\n",
    " case _:\n",
    "  print(\"not present\")\n"
   ]
  },
  {
   "cell_type": "code",
   "execution_count": 42,
   "id": "b1b55cd0-3435-475b-b2b2-36fa44f8ecf9",
   "metadata": {},
   "outputs": [
    {
     "name": "stdout",
     "output_type": "stream",
     "text": [
      "1\n"
     ]
    }
   ],
   "source": [
    "tuple=(1)\n",
    "print(tuple)"
   ]
  },
  {
   "cell_type": "code",
   "execution_count": 47,
   "id": "69075e05-0dad-4fd3-bf6a-b7fd1e4750fa",
   "metadata": {},
   "outputs": [
    {
     "name": "stdout",
     "output_type": "stream",
     "text": [
      "5\n",
      "5\n",
      "5\n",
      "15\n"
     ]
    }
   ],
   "source": [
    "list=[1,2,3,4,5]\n",
    "a=(len(list))\n",
    "print(a)\n",
    "set={1,2,3,4,5}\n",
    "b=(len(set))\n",
    "print(b)\n",
    "tuple=(1,2,3,4,5)\n",
    "c=(len(tuple))\n",
    "print(c)\n",
    "d=a+b+c\n",
    "print(d)\n",
    "\n"
   ]
  },
  {
   "cell_type": "code",
   "execution_count": 44,
   "id": "1843d635-6c13-4f9d-9f6a-4880c8f3be1b",
   "metadata": {},
   "outputs": [
    {
     "name": "stdout",
     "output_type": "stream",
     "text": [
      "[1, 2, 3, 'name', 7, 8]\n"
     ]
    }
   ],
   "source": [
    "list=[1,2,3,(4,5,6),7,8]\n",
    "list[3]=\"name\"\n",
    "print(list)"
   ]
  },
  {
   "cell_type": "code",
   "execution_count": 46,
   "id": "4edfc57c-16eb-4e62-9f26-5f376bf49e58",
   "metadata": {},
   "outputs": [
    {
     "name": "stdout",
     "output_type": "stream",
     "text": [
      "(1, 2, 3, [3, 4, 5], 3, 4, {1, 2}, 2)\n"
     ]
    }
   ],
   "source": [
    "tuple=(1,2,3,[3,4,5],3,4,{1,2},2)\n",
    "print(tuple)"
   ]
  },
  {
   "cell_type": "code",
   "execution_count": 51,
   "id": "4f752923-0f34-43ee-87b2-509e5a55efd9",
   "metadata": {},
   "outputs": [
    {
     "name": "stdin",
     "output_type": "stream",
     "text": [
      "Enter the first value: 11\n",
      "Enter the second value: 11\n"
     ]
    },
    {
     "name": "stdout",
     "output_type": "stream",
     "text": [
      "The GM of the value is: 11.0\n",
      "The AM of the value is: 11.0\n",
      "The HM of the value is: 11.0\n"
     ]
    }
   ],
   "source": [
    "import math\n",
    "a=float(input(\"Enter the first value:\"))\n",
    "b=float(input(\"Enter the second value:\"))\n",
    "GM= math.sqrt(a*b)\n",
    "AM=(a+b)/2\n",
    "HM=(2*a*b)/(a+b)\n",
    "print(\"The GM of the value is:\",GM)\n",
    "print(\"The AM of the value is:\",AM)\n",
    "print(\"The HM of the value is:\",HM)\n"
   ]
  },
  {
   "cell_type": "code",
   "execution_count": 54,
   "id": "222b5311-b1c3-4f9a-b44a-5453758ed110",
   "metadata": {},
   "outputs": [
    {
     "name": "stdout",
     "output_type": "stream",
     "text": [
      "hello maaz sahkir !\n",
      "hello sanaullah !\n",
      "hello 345 !\n"
     ]
    }
   ],
   "source": [
    "def greet(name):\n",
    "    print(\"hello\",name,\"!\")\n",
    "greet(\"maaz sahkir\")\n",
    "greet(\"sanaullah\")\n",
    "greet(345)\n"
   ]
  },
  {
   "cell_type": "code",
   "execution_count": 62,
   "id": "335b3c0c-182d-4552-a744-72ad13d6afa4",
   "metadata": {},
   "outputs": [
    {
     "name": "stdin",
     "output_type": "stream",
     "text": [
      "enter value 12\n",
      "enter value 15\n"
     ]
    },
    {
     "name": "stdout",
     "output_type": "stream",
     "text": [
      "27\n",
      "-3\n",
      "180\n",
      "144\n",
      "0.8\n"
     ]
    }
   ],
   "source": [
    "def add(a,b):\n",
    "   return a+b\n",
    "def sub(a,b):\n",
    "    return a-b\n",
    "def mul(a,b):\n",
    "    return a*b\n",
    "def Div(a,b):\n",
    "    return a/b\n",
    "def exponent(a):\n",
    "    return a*a\n",
    "A=int(input(\"enter value\"))\n",
    "B=int(input(\"enter value\"))\n",
    "result_1=add(A,B)\n",
    "print(result_1)\n",
    "result_2=sub(A,B)\n",
    "print(result_2)\n",
    "result_3=mul(A,B)\n",
    "print(result_3)\n",
    "result_4=exponent(A)\n",
    "print(result_4)\n",
    "result_5=Div(A,B)\n",
    "print(result_5)"
   ]
  },
  {
   "cell_type": "code",
   "execution_count": 65,
   "id": "909c14cb-5e47-4f33-b248-2cfecfd61cea",
   "metadata": {},
   "outputs": [
    {
     "name": "stdin",
     "output_type": "stream",
     "text": [
      "enter the first value: 2\n",
      "enter the second value: 2\n"
     ]
    },
    {
     "name": "stdout",
     "output_type": "stream",
     "text": [
      "4\n"
     ]
    }
   ],
   "source": [
    "def add(a,b):\n",
    "    return a+b\n",
    "a= int(input(\"enter the first value:\"))\n",
    "b=int(input(\"enter the second value:\"))\n",
    "result=add(a,b)\n",
    "print(result)"
   ]
  },
  {
   "cell_type": "code",
   "execution_count": 79,
   "id": "28aac498-5836-41b0-ac6f-cb49cb20e471",
   "metadata": {},
   "outputs": [
    {
     "ename": "IndentationError",
     "evalue": "expected an indented block after 'if' statement on line 5 (3776782203.py, line 6)",
     "output_type": "error",
     "traceback": [
      "\u001b[1;36m  Cell \u001b[1;32mIn[79], line 6\u001b[1;36m\u001b[0m\n\u001b[1;33m    break\u001b[0m\n\u001b[1;37m    ^\u001b[0m\n\u001b[1;31mIndentationError\u001b[0m\u001b[1;31m:\u001b[0m expected an indented block after 'if' statement on line 5\n"
     ]
    }
   ],
   "source": [
    "import math \n",
    "def add():\n",
    "    while True:\n",
    "        user_input = input(\"Enter a value (or 'quit' to exit): \")\n",
    "    if user_input.lower() == 'quit':\n",
    "    break\n",
    "    # Process the input here (e.g., store in a list, perform some operation)\n",
    "        print(f\"You entered: {user_input}\")\n",
    "\n",
    "    \n",
    "        return sum(user_input)"
   ]
  },
  {
   "cell_type": "code",
   "execution_count": 98,
   "id": "776e12d4-ef2c-4bd1-99da-2e0b297d2af4",
   "metadata": {},
   "outputs": [
    {
     "name": "stdin",
     "output_type": "stream",
     "text": [
      "enter distance in kilometer 15\n"
     ]
    },
    {
     "name": "stdout",
     "output_type": "stream",
     "text": [
      "9.3195\n"
     ]
    }
   ],
   "source": [
    "def convertor(m):\n",
    "    return mile\n",
    "km=float(input(\"enter distance in kilometer\"))\n",
    "mile=km*0.6213\n",
    "result=convertor(km)\n",
    "print(result)\n",
    "    \n"
   ]
  },
  {
   "cell_type": "code",
   "execution_count": 115,
   "id": "c8052152-dd6d-4913-8e3c-f02321140b36",
   "metadata": {},
   "outputs": [
    {
     "ename": "TypeError",
     "evalue": "'int' object is not callable",
     "output_type": "error",
     "traceback": [
      "\u001b[1;31m---------------------------------------------------------------------------\u001b[0m",
      "\u001b[1;31mTypeError\u001b[0m                                 Traceback (most recent call last)",
      "Cell \u001b[1;32mIn[115], line 3\u001b[0m\n\u001b[0;32m      1\u001b[0m \u001b[38;5;28;01mdef\u001b[39;00m \u001b[38;5;21mconversion_km_to_miles\u001b[39m(km):\n\u001b[0;32m      2\u001b[0m         \u001b[38;5;28;01mreturn\u001b[39;00m km\u001b[38;5;241m*\u001b[39m\u001b[38;5;241m0.621\u001b[39m\n\u001b[1;32m----> 3\u001b[0m con \u001b[38;5;241m=\u001b[39m \u001b[38;5;28minput\u001b[39m(\u001b[38;5;124m\"\u001b[39m\u001b[38;5;124menter choice k for km and m for miles\u001b[39m\u001b[38;5;124m\"\u001b[39m)\n\u001b[0;32m      4\u001b[0m \u001b[38;5;28;01mif\u001b[39;00m con \u001b[38;5;241m==\u001b[39m \u001b[38;5;124m\"\u001b[39m\u001b[38;5;124mk\u001b[39m\u001b[38;5;124m\"\u001b[39m:\n\u001b[0;32m      5\u001b[0m     km \u001b[38;5;241m=\u001b[39m \u001b[38;5;28mfloat\u001b[39m(\u001b[38;5;28minput\u001b[39m(\u001b[38;5;124m\"\u001b[39m\u001b[38;5;124mEnter the distance in km:\u001b[39m\u001b[38;5;124m\"\u001b[39m))\n",
      "\u001b[1;31mTypeError\u001b[0m: 'int' object is not callable"
     ]
    }
   ],
   "source": [
    "def conversion_km_to_miles(km):\n",
    "        return km*0.621\n",
    "con = input(\"enter choice k for km and m for miles\")\n",
    "if con == \"k\":\n",
    "    km = float(input(\"Enter the distance in km:\"))\n",
    "    print(conversion(km))\n",
    "elif input==2:\n",
    "    print=conversion()\n",
    "else:\n",
    "    print=(\"invalid input\")"
   ]
  },
  {
   "cell_type": "code",
   "execution_count": 116,
   "id": "74eab635-8e5d-44e2-ac6d-8f17349122f2",
   "metadata": {},
   "outputs": [
    {
     "ename": "TypeError",
     "evalue": "'int' object is not callable",
     "output_type": "error",
     "traceback": [
      "\u001b[1;31m---------------------------------------------------------------------------\u001b[0m",
      "\u001b[1;31mTypeError\u001b[0m                                 Traceback (most recent call last)",
      "Cell \u001b[1;32mIn[116], line 10\u001b[0m\n\u001b[0;32m      8\u001b[0m     km \u001b[38;5;241m=\u001b[39m miles \u001b[38;5;241m/\u001b[39m \u001b[38;5;241m0.621371\u001b[39m\n\u001b[0;32m      9\u001b[0m     \u001b[38;5;28;01mreturn\u001b[39;00m km\n\u001b[1;32m---> 10\u001b[0m choice \u001b[38;5;241m=\u001b[39m \u001b[38;5;28mint\u001b[39m(\u001b[38;5;28minput\u001b[39m(\u001b[38;5;124m\"\u001b[39m\u001b[38;5;124mEnter your choice:\u001b[39m\u001b[38;5;130;01m\\n\u001b[39;00m\u001b[38;5;124m1. Convert kilometers to miles\u001b[39m\u001b[38;5;130;01m\\n\u001b[39;00m\u001b[38;5;124m2. Convert miles to kilometers\u001b[39m\u001b[38;5;130;01m\\n\u001b[39;00m\u001b[38;5;124m3. Exit\u001b[39m\u001b[38;5;130;01m\\n\u001b[39;00m\u001b[38;5;124m\"\u001b[39m))\n\u001b[0;32m     12\u001b[0m \u001b[38;5;28;01mif\u001b[39;00m choice \u001b[38;5;241m==\u001b[39m \u001b[38;5;241m1\u001b[39m:\n\u001b[0;32m     13\u001b[0m                 km \u001b[38;5;241m=\u001b[39m \u001b[38;5;28mfloat\u001b[39m(\u001b[38;5;28minput\u001b[39m(\u001b[38;5;124m\"\u001b[39m\u001b[38;5;124mEnter distance in kilometers: \u001b[39m\u001b[38;5;124m\"\u001b[39m))\n",
      "\u001b[1;31mTypeError\u001b[0m: 'int' object is not callable"
     ]
    }
   ],
   "source": [
    "def km_to_miles(km):\n",
    "    # Conversion factor from kilometers to miles\n",
    "    miles = km * 0.621371\n",
    "    return miles\n",
    "\n",
    "def miles_to_km(miles):\n",
    "    # Conversion factor from miles to kilometers\n",
    "    km = miles / 0.621371\n",
    "    return km\n",
    "choice = int(input(\"Enter your choice:\\n1. Convert kilometers to miles\\n2. Convert miles to kilometers\\n3. Exit\\n\"))\n",
    "\n",
    "if choice == 1:\n",
    "                km = float(input(\"Enter distance in kilometers: \"))\n",
    "                miles = km_to_miles(km)\n",
    "                print(f\"{km} kilometers is equal to {miles} miles.\\n\")\n",
    "elif choice == 2:\n",
    "                miles = float(input(\"Enter distance in miles: \"))\n",
    "                km = miles_to_km(miles)\n",
    "                print(f\"{miles} miles is equal to {km} kilometers.\\n\")\n",
    "else:\n",
    "                print(\"Invalid choice. Please enter 1, 2, or 3.\\n\")\n"
   ]
  },
  {
   "cell_type": "code",
   "execution_count": 5,
   "id": "2071f5c0-5e32-4d41-9455-eb92eaeeae7b",
   "metadata": {},
   "outputs": [
    {
     "name": "stdout",
     "output_type": "stream",
     "text": [
      "<class 'dict'>\n",
      "{}\n"
     ]
    }
   ],
   "source": [
    "A={ }\n",
    "print(type(A))\n",
    "print(A)"
   ]
  },
  {
   "cell_type": "code",
   "execution_count": 6,
   "id": "6b71a130-8b94-483d-8a8d-1892d451d988",
   "metadata": {},
   "outputs": [
    {
     "name": "stdout",
     "output_type": "stream",
     "text": [
      "<class 'dict'>\n",
      "{}\n"
     ]
    }
   ],
   "source": [
    "set={}\n",
    "print(type(set))\n",
    "print(set)"
   ]
  },
  {
   "cell_type": "code",
   "execution_count": 28,
   "id": "88669f34-05b9-40c5-9d53-fe6b7327972f",
   "metadata": {},
   "outputs": [
    {
     "name": "stdout",
     "output_type": "stream",
     "text": [
      "{'name': 'skoda', 'model': 'toyota', 'year': 2024}\n",
      "3\n"
     ]
    }
   ],
   "source": [
    "car={\"name\" : \"skoda\",\n",
    "     \"model\": \"suzuki\" ,\n",
    "     \"year\" : 2024 }\n",
    "car[\"model\"]=\"toyota\"\n",
    "car[\"milage\"]=\"4000km\"\n",
    "car.pop(\"milage\")\n",
    "print(car)\n",
    "print(len(car))"
   ]
  },
  {
   "cell_type": "code",
   "execution_count": 31,
   "id": "da72c17d-daa2-4368-84a4-1beb13d5667e",
   "metadata": {},
   "outputs": [
    {
     "name": "stdout",
     "output_type": "stream",
     "text": [
      "{'name': 'Rizwan', 'year': 1996, 'trainer': 'AI'}\n",
      "<class 'dict'>\n"
     ]
    }
   ],
   "source": [
    "details = dict(name=\"Rizwan\", year = 1996, trainer = \"AI\")\n",
    "print(details)\n",
    "print(type(details))"
   ]
  },
  {
   "cell_type": "code",
   "execution_count": 32,
   "id": "057671ec-87cc-4ddd-8736-13a335de8d7d",
   "metadata": {},
   "outputs": [
    {
     "name": "stdout",
     "output_type": "stream",
     "text": [
      "{'brand': 'Ford', 'model': 'Mustang', 'year': '2023'}\n"
     ]
    }
   ],
   "source": [
    "thisdict={\"brand\": \"Ford\",\"model\":\"Mustang\",\"year\":\"2023\"}\n",
    "print(thisdict)\n"
   ]
  },
  {
   "cell_type": "code",
   "execution_count": 36,
   "id": "4e6267ea-3e41-4a97-bd2a-08ce9da0731b",
   "metadata": {},
   "outputs": [
    {
     "data": {
      "text/plain": [
       "{'name': 'Ali',\n",
       " 'class': '5th',\n",
       " 'age': '25',\n",
       " 'fathername': 'hassan',\n",
       " 'occupation': 'business',\n",
       " 'number': '0331996'}"
      ]
     },
     "execution_count": 36,
     "metadata": {},
     "output_type": "execute_result"
    }
   ],
   "source": [
    "dict1={\"name\": \"Ali\", \"class\": \"5th\", \"age\": \"25\"}\n",
    "dict2={\"fathername\": \"hassan\", \"occupation\": \"business\", \"number\": \"0331996\"}\n",
    "dict1.update(dict2)\n",
    "dict1"
   ]
  },
  {
   "cell_type": "code",
   "execution_count": null,
   "id": "a7775a8f-4ebc-4d0d-9c24-d4e8c498b01d",
   "metadata": {},
   "outputs": [],
   "source": []
  },
  {
   "cell_type": "code",
   "execution_count": 43,
   "id": "d8ff0e3a-58a0-44bd-8f49-55a0f4880bf9",
   "metadata": {},
   "outputs": [
    {
     "name": "stdout",
     "output_type": "stream",
     "text": [
      "{'name': 'Ali', 'class': '5th', 'age': '25', 'fname': 'hassan'}\n"
     ]
    }
   ],
   "source": [
    "dict1={\"name\": \"Ali\", \"class\": \"5th\", \"age\": \"25\"}\n",
    "dict1[\"fname\"]= \"hassan\"\n",
    "print(dict1)"
   ]
  },
  {
   "cell_type": "code",
   "execution_count": 50,
   "id": "9adb4f0b-125b-4ed2-beb8-d8cf2dc943de",
   "metadata": {},
   "outputs": [
    {
     "name": "stdout",
     "output_type": "stream",
     "text": [
      "Hello, Alice! Welcome to Python programming!\n"
     ]
    }
   ],
   "source": [
    "def greet(name):\n",
    "    greeting_message = f\"Hello, {name}! Welcome to Python programming!\"\n",
    "    print(greeting_message)\n",
    "greet(\"Alice\")"
   ]
  },
  {
   "cell_type": "code",
   "execution_count": 48,
   "id": "4fa0984e-e037-4fd8-bb10-f4709455a4f2",
   "metadata": {},
   "outputs": [
    {
     "name": "stdout",
     "output_type": "stream",
     "text": [
      "3.141592653589793\n"
     ]
    }
   ],
   "source": [
    "import math\n",
    "print(math.pi)"
   ]
  },
  {
   "cell_type": "code",
   "execution_count": 54,
   "id": "aeaaff8e-02a8-430d-ae8d-95d1a427d6b3",
   "metadata": {},
   "outputs": [
    {
     "name": "stdin",
     "output_type": "stream",
     "text": [
      "enter area 33\n"
     ]
    },
    {
     "name": "stdout",
     "output_type": "stream",
     "text": [
      "3421.194399759285\n"
     ]
    }
   ],
   "source": [
    "import math\n",
    "def calculate_area(radius):\n",
    "    area=math.pi * radius **2\n",
    "    return area\n",
    "    print(area)\n",
    "a=float(input(\"enter area\"))\n",
    "Area=calculate_area(a)\n",
    "print(Area)\n"
   ]
  },
  {
   "cell_type": "code",
   "execution_count": 56,
   "id": "ee7c0234-329e-412a-9e40-7c885bb61975",
   "metadata": {},
   "outputs": [
    {
     "name": "stdout",
     "output_type": "stream",
     "text": [
      "[1, 1, 3, 4, 5, 9]\n"
     ]
    }
   ],
   "source": [
    "my_tuple=(3,1,4,1,5,9)\n",
    "print(sorted(my_tuple)) # arranging decending order"
   ]
  },
  {
   "cell_type": "code",
   "execution_count": 57,
   "id": "40ff2d6f-34aa-4338-9225-c7a71128bbfa",
   "metadata": {},
   "outputs": [
    {
     "name": "stdout",
     "output_type": "stream",
     "text": [
      "5\n"
     ]
    }
   ],
   "source": [
    "my_number=-5\n",
    "print(abs(my_number)) # absoulte number"
   ]
  },
  {
   "cell_type": "code",
   "execution_count": 2,
   "id": "59820e2a-986f-458c-84f5-b4a23f4a2703",
   "metadata": {},
   "outputs": [
    {
     "name": "stdout",
     "output_type": "stream",
     "text": [
      "Welcome to my website: khan Muhammad Rizwan\n"
     ]
    }
   ],
   "source": [
    "#dafult arguments example\n",
    "def name(fname,mname=\"Muhammad\",Lname=\"Rizwan\"):\n",
    "    print(\"Welcome to my website:\", fname,mname, Lname)\n",
    "name(\"khan\")"
   ]
  },
  {
   "cell_type": "code",
   "execution_count": 3,
   "id": "0da75d7c-a389-43a9-8b06-b6452c500416",
   "metadata": {},
   "outputs": [
    {
     "name": "stdout",
     "output_type": "stream",
     "text": [
      "Average: 6.0\n"
     ]
    }
   ],
   "source": [
    "def avg(a=4,b=6):\n",
    "    print(\"Average:\",(a+b)/2)\n",
    "avg(b=8)"
   ]
  },
  {
   "cell_type": "code",
   "execution_count": 8,
   "id": "89915030-05a9-499b-8efd-a9fe8243f1d1",
   "metadata": {},
   "outputs": [
    {
     "name": "stdout",
     "output_type": "stream",
     "text": [
      "Average: 4.333333333333333\n"
     ]
    }
   ],
   "source": [
    "#overwriting\n",
    "def avg(a=4,b=6,c=4):\n",
    "    print(\"Average:\",(a+b+c)/3)\n",
    "avg(3,4,6)"
   ]
  },
  {
   "cell_type": "code",
   "execution_count": 9,
   "id": "989c5e38-993f-4199-a9f6-5342216157f6",
   "metadata": {},
   "outputs": [
    {
     "name": "stdout",
     "output_type": "stream",
     "text": [
      "Registered: khan rizwan Muhammad\n"
     ]
    }
   ],
   "source": [
    "#ketword Arguments example\n",
    "#if order doesn't matter\n",
    "def poffice(lname,mname,fname):\n",
    "    print(\"Registered:\", lname,mname,fname)\n",
    "poffice(lname=\"khan\", mname=\"rizwan\", fname=\"Muhammad\")"
   ]
  },
  {
   "cell_type": "code",
   "execution_count": 11,
   "id": "c57ca92f-28ae-45e4-8082-f7c61ee0760c",
   "metadata": {},
   "outputs": [
    {
     "name": "stdout",
     "output_type": "stream",
     "text": [
      "Average: 3.3333333333333335\n"
     ]
    }
   ],
   "source": [
    "def avg(a,b,c):\n",
    "    print(\"Average:\", (a+b+c)/3)\n",
    "avg(c=3,b=5,a=2)\n",
    "    "
   ]
  },
  {
   "cell_type": "code",
   "execution_count": 14,
   "id": "e0a163be-57fe-485a-b609-a141e9ca0e8e",
   "metadata": {},
   "outputs": [
    {
     "name": "stdin",
     "output_type": "stream",
     "text": [
      "enter first value 2\n",
      "enter 2nd value 2\n"
     ]
    },
    {
     "name": "stdout",
     "output_type": "stream",
     "text": [
      "Average: 2.0\n"
     ]
    }
   ],
   "source": [
    "# required arguments\n",
    "def avg(a,b):\n",
    "    print(\"Average:\", (a+b)/2)\n",
    "a=int(input(\"enter first value\"))\n",
    "b=int(input(\"enter 2nd value\"))\n",
    "avg(a,b)"
   ]
  },
  {
   "cell_type": "code",
   "execution_count": 15,
   "id": "6e9922c6-13a1-4c9d-a36e-125505dfca26",
   "metadata": {},
   "outputs": [
    {
     "name": "stdout",
     "output_type": "stream",
     "text": [
      "Average: 5.0\n",
      "Average: 10.0\n"
     ]
    }
   ],
   "source": [
    "#Arbitary Arguments n value\n",
    "def avg(*num):\n",
    "    sum=0\n",
    "    for i in num:\n",
    "        sum=sum+i\n",
    "        print(\"Average:\", sum/len(num))\n",
    "avg(10,10)"
   ]
  },
  {
   "cell_type": "code",
   "execution_count": 18,
   "id": "c2d03d57-86e1-4e24-8b8d-994241a793ba",
   "metadata": {},
   "outputs": [
    {
     "name": "stdin",
     "output_type": "stream",
     "text": [
      "enter your number 83\n"
     ]
    },
    {
     "data": {
      "text/plain": [
       "'B'"
      ]
     },
     "execution_count": 18,
     "metadata": {},
     "output_type": "execute_result"
    }
   ],
   "source": [
    "def calculate_grade(marks):\n",
    "    if marks >= 90:\n",
    "        return 'A'\n",
    "    elif marks >= 80:\n",
    "        return 'B'\n",
    "    elif marks >= 70:\n",
    "        return 'C'\n",
    "    elif marks >= 60:\n",
    "        return 'D'\n",
    "    else:\n",
    "        return 'F'\n",
    "        print(\"your Grade is \", marks)\n",
    "marks=float(input(\"enter your number\"))\n",
    "calculate_grade(marks)"
   ]
  },
  {
   "cell_type": "code",
   "execution_count": 20,
   "id": "c4cdf611-033b-4266-b778-cb2f79c2f7d4",
   "metadata": {},
   "outputs": [
    {
     "name": "stdout",
     "output_type": "stream",
     "text": [
      "something is happening before the funtion is called.\n",
      "Hello!\n",
      "something is happening before the funtion is called.\n"
     ]
    }
   ],
   "source": [
    "#decorator example\n",
    "def my_decorator(func):\n",
    "    def wrapper():\n",
    "        print(\"something is happening before the funtion is called.\")\n",
    "        func()\n",
    "        print(\"something is happening before the funtion is called.\")\n",
    "    return wrapper\n",
    "@my_decorator\n",
    "def say_hello():\n",
    "    print(\"Hello!\")\n",
    "say_hello()"
   ]
  },
  {
   "cell_type": "code",
   "execution_count": 30,
   "id": "537bdaa2-f556-4bbe-99a5-e669434aff11",
   "metadata": {},
   "outputs": [
    {
     "name": "stdout",
     "output_type": "stream",
     "text": [
      "execution time of slow_function:0.12267088890075684 seconds\n",
      "Result: 499999500000\n"
     ]
    }
   ],
   "source": [
    "def measure_time(func):\n",
    "    import time\n",
    "    def wrapper(*args, **kwargs):\n",
    "        start_time=time.time()\n",
    "        result=func(*args, **kwargs)\n",
    "        end_time=time.time()\n",
    "        print(f\"execution time of {func.__name__}:{end_time-start_time} seconds\")\n",
    "        return result\n",
    "    return wrapper\n",
    "@measure_time\n",
    "def slow_function(n):\n",
    "    total=0\n",
    "    for i in range(n):\n",
    "        total+=i\n",
    "    return total\n",
    "result= slow_function(1000000)\n",
    "print(\"Result:\",result)"
   ]
  },
  {
   "cell_type": "code",
   "execution_count": 26,
   "id": "6ced73a7-4eee-41f9-b13c-55899b2aa08e",
   "metadata": {},
   "outputs": [
    {
     "name": "stdout",
     "output_type": "stream",
     "text": [
      "Execution time of slow_function: 0.15159249305725098 seconds\n",
      "Result: 499999500000\n"
     ]
    }
   ],
   "source": [
    "def measure_time(func):\n",
    "    import time\n",
    "    def wrapper(*args, **kwargs):\n",
    "        start_time = time.time()\n",
    "        result = func(*args, **kwargs)\n",
    "        end_time = time.time()\n",
    "        print(f\"Execution time of {func.__name__}: {end_time - start_time} seconds\")\n",
    "        return result\n",
    "    return wrapper\n",
    "@measure_time\n",
    "def slow_function(n):\n",
    "    total = 0\n",
    "    for i in range(n):\n",
    "        total += i\n",
    "    return total\n",
    "result = slow_function(1000000)\n",
    "print(\"Result:\", result)"
   ]
  },
  {
   "cell_type": "code",
   "execution_count": 1,
   "id": "07a77b7a-b88c-477d-9dba-6e5a1b687789",
   "metadata": {},
   "outputs": [
    {
     "ename": "ValueError",
     "evalue": "invalid mode: 'mode'",
     "output_type": "error",
     "traceback": [
      "\u001b[1;31m---------------------------------------------------------------------------\u001b[0m",
      "\u001b[1;31mValueError\u001b[0m                                Traceback (most recent call last)",
      "Cell \u001b[1;32mIn[1], line 2\u001b[0m\n\u001b[0;32m      1\u001b[0m \u001b[38;5;66;03m#file I/O\u001b[39;00m\n\u001b[1;32m----> 2\u001b[0m f\u001b[38;5;241m=\u001b[39m\u001b[38;5;28mopen\u001b[39m(\u001b[38;5;124m\"\u001b[39m\u001b[38;5;124mfilename\u001b[39m\u001b[38;5;124m\"\u001b[39m,\u001b[38;5;124m\"\u001b[39m\u001b[38;5;124mmode\u001b[39m\u001b[38;5;124m\"\u001b[39m)\u001b[38;5;66;03m#omde show action on file i.e reading writing etc\u001b[39;00m\n\u001b[0;32m      3\u001b[0m data\u001b[38;5;241m=\u001b[39mf\u001b[38;5;241m.\u001b[39mread()\n\u001b[0;32m      4\u001b[0m f\u001b[38;5;241m.\u001b[39mclose()\n",
      "File \u001b[1;32mC:\\ProgramData\\anaconda3\\Lib\\site-packages\\IPython\\core\\interactiveshell.py:324\u001b[0m, in \u001b[0;36m_modified_open\u001b[1;34m(file, *args, **kwargs)\u001b[0m\n\u001b[0;32m    317\u001b[0m \u001b[38;5;28;01mif\u001b[39;00m file \u001b[38;5;129;01min\u001b[39;00m {\u001b[38;5;241m0\u001b[39m, \u001b[38;5;241m1\u001b[39m, \u001b[38;5;241m2\u001b[39m}:\n\u001b[0;32m    318\u001b[0m     \u001b[38;5;28;01mraise\u001b[39;00m \u001b[38;5;167;01mValueError\u001b[39;00m(\n\u001b[0;32m    319\u001b[0m         \u001b[38;5;124mf\u001b[39m\u001b[38;5;124m\"\u001b[39m\u001b[38;5;124mIPython won\u001b[39m\u001b[38;5;124m'\u001b[39m\u001b[38;5;124mt let you open fd=\u001b[39m\u001b[38;5;132;01m{\u001b[39;00mfile\u001b[38;5;132;01m}\u001b[39;00m\u001b[38;5;124m by default \u001b[39m\u001b[38;5;124m\"\u001b[39m\n\u001b[0;32m    320\u001b[0m         \u001b[38;5;124m\"\u001b[39m\u001b[38;5;124mas it is likely to crash IPython. If you know what you are doing, \u001b[39m\u001b[38;5;124m\"\u001b[39m\n\u001b[0;32m    321\u001b[0m         \u001b[38;5;124m\"\u001b[39m\u001b[38;5;124myou can use builtins\u001b[39m\u001b[38;5;124m'\u001b[39m\u001b[38;5;124m open.\u001b[39m\u001b[38;5;124m\"\u001b[39m\n\u001b[0;32m    322\u001b[0m     )\n\u001b[1;32m--> 324\u001b[0m \u001b[38;5;28;01mreturn\u001b[39;00m io_open(file, \u001b[38;5;241m*\u001b[39margs, \u001b[38;5;241m*\u001b[39m\u001b[38;5;241m*\u001b[39mkwargs)\n",
      "\u001b[1;31mValueError\u001b[0m: invalid mode: 'mode'"
     ]
    }
   ],
   "source": [
    "#file I/O\n",
    "f=open(\"filename\",\"mode\")#mode show action on file i.e reading writing etc\n",
    "data=f.read()\n",
    "f.close()"
   ]
  },
  {
   "cell_type": "code",
   "execution_count": 11,
   "id": "468c74f0-848d-406b-aa10-60ff5e276388",
   "metadata": {},
   "outputs": [
    {
     "name": "stdout",
     "output_type": "stream",
     "text": [
      "my name is\n"
     ]
    }
   ],
   "source": [
    "#create file in anywhere in laptop\n",
    "#create a test file\n",
    "#click up and type cmd on beggning of file address \n",
    "f=open(\"first_file.txt\",\"r\")\n",
    "data=f.read(10)\n",
    "f.close()\n",
    "print(data)"
   ]
  },
  {
   "cell_type": "code",
   "execution_count": 8,
   "id": "97c93d55-9288-46e8-b4b4-654577531990",
   "metadata": {},
   "outputs": [
    {
     "name": "stdout",
     "output_type": "stream",
     "text": [
      "my name is taqi haider\n",
      "i enroll in AI in corvit instituite\n",
      "i complete my bs in cs from university of ajk\n"
     ]
    }
   ],
   "source": [
    "f=open(\"first_file.txt\",\"r\")\n",
    "data=f.read()\n",
    "f.close()\n",
    "print(data)"
   ]
  },
  {
   "cell_type": "code",
   "execution_count": 14,
   "id": "c38ea56e-c7d2-4407-85e3-ae1530ed9d35",
   "metadata": {},
   "outputs": [
    {
     "name": "stdout",
     "output_type": "stream",
     "text": [
      "my name is taqi haider\n",
      "\n"
     ]
    }
   ],
   "source": [
    "f=open(\"first_file.txt\",\"r\")\n",
    "line1=f.readline()\n",
    "print(line1)"
   ]
  },
  {
   "cell_type": "code",
   "execution_count": 28,
   "id": "fe41ad3f-c87c-4fd3-bdff-9dc97df28c28",
   "metadata": {},
   "outputs": [
    {
     "name": "stdout",
     "output_type": "stream",
     "text": [
      "my name is\n",
      "my name is\n",
      "my name is\n",
      "my name is\n",
      "my name is\n"
     ]
    }
   ],
   "source": [
    "f=open(\"first_file.txt\",\"r\")\n",
    "line=f.readline()\n",
    "for i in range(5):\n",
    " print(line)"
   ]
  },
  {
   "cell_type": "code",
   "execution_count": 30,
   "id": "60d5ffb4-8e7c-4e1b-a552-fe00ef33f961",
   "metadata": {},
   "outputs": [],
   "source": [
    "#full file will be overwrite\n",
    "f=open(\"first_file.txt\",\"w\")\n",
    "f.write(\"Any question!\")\n",
    "f.close()"
   ]
  },
  {
   "cell_type": "code",
   "execution_count": 31,
   "id": "db4eb474-fa15-4c20-9d9b-ce4fa02a2d73",
   "metadata": {},
   "outputs": [
    {
     "name": "stdout",
     "output_type": "stream",
     "text": [
      "Any question!\n"
     ]
    }
   ],
   "source": [
    "f=open(\"first_file.txt\",\"r\")\n",
    "data=f.read()\n",
    "f.close()\n",
    "print(data)"
   ]
  },
  {
   "cell_type": "code",
   "execution_count": 36,
   "id": "077526f7-4c81-4cd8-8f8a-deb7a6d91e35",
   "metadata": {},
   "outputs": [],
   "source": [
    "# write text in new line in the file\n",
    "f=open(\"first_file.txt\",\"a\")\n",
    "f.write(\"welcome to the new document I am here to serve you\")\n",
    "f.close()"
   ]
  },
  {
   "cell_type": "code",
   "execution_count": 34,
   "id": "c197775d-b5cd-421c-a407-20673a7abdc2",
   "metadata": {},
   "outputs": [
    {
     "name": "stdout",
     "output_type": "stream",
     "text": [
      "Any question!welcome to the new document I am here to serve youwelcome to the new document I am here to serve you\n"
     ]
    }
   ],
   "source": [
    "f=open(\"first_file.txt\",\"r\")\n",
    "data=f.read()\n",
    "f.close()\n",
    "print(data)"
   ]
  },
  {
   "cell_type": "code",
   "execution_count": 37,
   "id": "625845f5-030e-4f40-bb86-d2795d516e3d",
   "metadata": {},
   "outputs": [],
   "source": [
    "f=open(\"first_file.txt\",\"a\")\n",
    "f.write(\"hello welcome to the new document I am here to serve you\")\n",
    "f.close()"
   ]
  },
  {
   "cell_type": "code",
   "execution_count": 38,
   "id": "6e3c4fa9-1284-4cc2-8390-daf8be0329b7",
   "metadata": {},
   "outputs": [],
   "source": [
    "f=open(\"first_file.txt\",\"a\")\n",
    "f.write(\"hello welcome to the new document I am here to serve you \\n this is a new line inside document\")\n",
    "f.close()"
   ]
  },
  {
   "cell_type": "code",
   "execution_count": 39,
   "id": "0e331f77-1ba9-42c9-bead-d22fcfc7562a",
   "metadata": {},
   "outputs": [
    {
     "name": "stdout",
     "output_type": "stream",
     "text": [
      "Any question!welcome to the new document I am here to serve youwelcome to the new document I am here to serve you\n",
      " welcome to the new document I am here to serve youwelcome to the new document I am here to serve youhello welcome to the new document I am here to serve youhello welcome to the new document I am here to serve you \n",
      " this is a new line inside document\n"
     ]
    }
   ],
   "source": [
    "f=open(\"first_file.txt\",\"r\")\n",
    "data=f.read()\n",
    "f.close()\n",
    "print(data)"
   ]
  },
  {
   "cell_type": "code",
   "execution_count": 42,
   "id": "9c898246-e648-479d-9698-601e253d0618",
   "metadata": {},
   "outputs": [
    {
     "name": "stdout",
     "output_type": "stream",
     "text": [
      "Any question!welcome to the new document I am here to serve youwelcome to the new document I am here to serve you\n",
      " welcome to the new document I am here to serve youwelcome to the new document I am here to serve youhello welcome to the new document I am here to serve youhello welcome to the new document I am here to serve you \n",
      " this is a new line inside document\n"
     ]
    }
   ],
   "source": [
    "f=open(\"first_file.txt\",\"+w\")\n",
    "f.write(\"this is a code\")\n",
    "f.close()\n",
    "print(data)"
   ]
  },
  {
   "cell_type": "code",
   "execution_count": 44,
   "id": "d7ca5565-aef4-4136-82ab-527eaf0a372b",
   "metadata": {},
   "outputs": [],
   "source": [
    "f=open(\"first_file.txt\",\"+w\")\n",
    "f.write(\"this is a code\")\n",
    "f.close()"
   ]
  },
  {
   "cell_type": "code",
   "execution_count": 46,
   "id": "9ca7fa1e-b481-4d06-adcb-d8e9708b2093",
   "metadata": {},
   "outputs": [],
   "source": [
    "f=open(\"first_file.txt\",\"+a\")\n",
    "f.write(\"\\n this is a code\")\n",
    "f.close()"
   ]
  },
  {
   "cell_type": "code",
   "execution_count": 51,
   "id": "5dde4429-8071-4655-9b9a-9305f798e51b",
   "metadata": {},
   "outputs": [],
   "source": [
    "with open(\"first_file.txt\",\"w\")as f:\n",
    " data=f.write(\"i am a student\")"
   ]
  },
  {
   "cell_type": "code",
   "execution_count": 53,
   "id": "9e9af3ae-1fbf-4373-9760-ed31ebf5dd25",
   "metadata": {},
   "outputs": [
    {
     "name": "stdout",
     "output_type": "stream",
     "text": [
      "i am a student\n"
     ]
    }
   ],
   "source": [
    "with open(\"first_file.txt\",\"r\")as f:\n",
    " data=f.read()\n",
    "print(data)"
   ]
  },
  {
   "cell_type": "code",
   "execution_count": 54,
   "id": "67f39a60-f68c-4051-a8b7-f33e6663a92d",
   "metadata": {},
   "outputs": [],
   "source": [
    "#deleting file\n",
    "import os \n",
    "os.remove(\"first_file.txt\")"
   ]
  },
  {
   "cell_type": "code",
   "execution_count": 67,
   "id": "1e211e07-bdf9-42ac-9fcc-f88224371078",
   "metadata": {},
   "outputs": [
    {
     "name": "stdout",
     "output_type": "stream",
     "text": [
      "hi everyone\n",
      "I am the AI,Machine Learning and deep learning trainer.\n",
      "I use tha python language for my projects.\n",
      "I like programming in python.\n",
      "Text replaced\n"
     ]
    }
   ],
   "source": [
    "#search and replaced\n",
    "with open(\"practice.txt\",\"r\")as f:\n",
    "    data=f.read()\n",
    "    print(data)\n",
    "search_text=\"java\"\n",
    "replaced_text=\"python\"\n",
    "with open('practice.txt', 'r') as f:\n",
    "    data = f.read()\n",
    "data = data.replace(search_text, replaced_text)\n",
    "with open('practice.txt', 'w') as f:\n",
    "    f.write(data)\n",
    "    print(\"Text replaced\")"
   ]
  },
  {
   "cell_type": "code",
   "execution_count": 2,
   "id": "39c4bd3c-4982-4fbc-a9aa-cac7d475c0d2",
   "metadata": {},
   "outputs": [
    {
     "name": "stdout",
     "output_type": "stream",
     "text": [
      "Hi everyone.\n",
      " I am the AI Machine learning and deep learning studentI use the Python language for my project.\n",
      " like programming in Python\n",
      "Hi everyone.\n",
      " I am the AI Machine learning and deep learning studentI use the java language for my project.\n",
      " like programming in java\n",
      "not found\n"
     ]
    }
   ],
   "source": [
    "with open(\"practice.txt\",\"w\") as f:\n",
    "    f.write(\"Hi everyone.\\n I am the AI Machine learning and deep learning student\")\n",
    "    f.write(\"I use the java language for my project.\\n like programming in java\")\n",
    "with open(\"practice.txt\",\"r\") as f:\n",
    "    data=f.read()\n",
    "new_data= data.replace(\"java\",\"Python\")\n",
    "print(new_data)\n",
    "word=\"projects\"\n",
    "with open(\"practice.txt\", \"r\")as f:\n",
    "    data=f.read()\n",
    "    print(data)\n",
    "    if(data.find(word)!=-1):\n",
    "        print(\"found\")\n",
    "    else:\n",
    "        print(\"not found\")"
   ]
  },
  {
   "cell_type": "code",
   "execution_count": 6,
   "id": "032c65cc-d9aa-4350-a927-d6fdbd7800b5",
   "metadata": {},
   "outputs": [
    {
     "name": "stdout",
     "output_type": "stream",
     "text": [
      "taqi\n",
      "5.6\n",
      "29\n",
      "5.6\n"
     ]
    }
   ],
   "source": [
    "#class creation\n",
    "class details:         # syntax class,classname\n",
    "    name=\"taqi\"\n",
    "    height=5.6       # class attributes\n",
    "    age=29\n",
    "#object creation\n",
    "obj1=details()\n",
    "print(obj1.name)\n",
    "print(obj1.height)\n",
    "print(obj1.age)\n",
    "obj2=details()\n",
    "print(obj2.height)"
   ]
  },
  {
   "cell_type": "code",
   "execution_count": 14,
   "id": "a2afd63f-dd8a-4b85-a327-8a683112e59b",
   "metadata": {},
   "outputs": [
    {
     "name": "stdin",
     "output_type": "stream",
     "text": [
      "Enter your name:  taqi\n",
      "Enter your height:  5.6\n",
      "Enter your age:  29\n",
      "Enter your qualification:  bscs\n",
      "Enter your gender (male/female):  male\n"
     ]
    },
    {
     "name": "stdout",
     "output_type": "stream",
     "text": [
      "29\n",
      "Male\n",
      "bscs\n"
     ]
    }
   ],
   "source": [
    "class Personal:\n",
    "    def __init__(self):\n",
    "        self.name = input(\"Enter your name: \")\n",
    "        self.height = float(input(\"Enter your height: \"))\n",
    "        self.age = int(input(\"Enter your age: \"))\n",
    "        self.qualification = input(\"Enter your qualification: \")\n",
    "        self.gender_value = input(\"Enter your gender (male/female): \")\n",
    "\n",
    "    def gender(self):\n",
    "        if self.gender_value.lower() == \"male\":\n",
    "            print(\"Male\")\n",
    "        else:\n",
    "            print(\"Female\")\n",
    "\n",
    "obj1 = Personal()\n",
    "print(obj1.age)\n",
    "obj1.gender()\n",
    "print(obj1.qualification)\n"
   ]
  },
  {
   "cell_type": "code",
   "execution_count": 16,
   "id": "24f6f476-0192-44fc-8256-cd71e4c42d58",
   "metadata": {},
   "outputs": [
    {
     "name": "stdout",
     "output_type": "stream",
     "text": [
      "hassan vela\n",
      "Ali\n",
      "BS\n"
     ]
    }
   ],
   "source": [
    "class Data():\n",
    "    name=\"Ali\"\n",
    "    Qual=\"BS\"\n",
    "    Occupation=\"trainer\"\n",
    "A= Data()\n",
    "A.name=\"hassan\"\n",
    "A.Qual=\"vela\"\n",
    "print(A.name,A.Qual)\n",
    "B=Data()\n",
    "print(B.name)\n",
    "print(B.Qual)"
   ]
  },
  {
   "cell_type": "code",
   "execution_count": 21,
   "id": "4058e623-7b8a-4ccb-964c-77cfc583a620",
   "metadata": {},
   "outputs": [
    {
     "name": "stdout",
     "output_type": "stream",
     "text": [
      "taqi\n"
     ]
    }
   ],
   "source": [
    "class personal_1():\n",
    "    age=45\n",
    "A=personal_1()\n",
    "print(obj1.name)"
   ]
  },
  {
   "cell_type": "code",
   "execution_count": null,
   "id": "29c30576-316b-4ab9-ae9c-51681713fec9",
   "metadata": {},
   "outputs": [],
   "source": []
  }
 ],
 "metadata": {
  "kernelspec": {
   "display_name": "Python 3 (ipykernel)",
   "language": "python",
   "name": "python3"
  },
  "language_info": {
   "codemirror_mode": {
    "name": "ipython",
    "version": 3
   },
   "file_extension": ".py",
   "mimetype": "text/x-python",
   "name": "python",
   "nbconvert_exporter": "python",
   "pygments_lexer": "ipython3",
   "version": "3.12.4"
  }
 },
 "nbformat": 4,
 "nbformat_minor": 5
}
